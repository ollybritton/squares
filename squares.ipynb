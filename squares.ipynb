{
 "cells": [
  {
   "cell_type": "code",
   "execution_count": 108,
   "id": "b83a667e-ce6b-4b37-9400-23c67e2840f1",
   "metadata": {},
   "outputs": [],
   "source": [
    "from copy import deepcopy\n",
    "from IPython.display import clear_output\n",
    "import time\n",
    "from tqdm import tqdm\n",
    "from itertools import permutations\n",
    "import random"
   ]
  },
  {
   "cell_type": "code",
   "execution_count": 109,
   "id": "0198a38d-6944-46c9-b80b-c65327e968ca",
   "metadata": {},
   "outputs": [],
   "source": [
    "class Grid:\n",
    "    def __init__(self, width, height, initial=None):\n",
    "        self.width = width\n",
    "        self.height = height\n",
    "        \n",
    "        if initial != None:\n",
    "            self.grid = initial\n",
    "        else:\n",
    "            self.grid = []\n",
    "            \n",
    "            for i in range(height):\n",
    "                self.grid.append([None] * self.width)\n",
    "        \n",
    "    # row returns the numbers in a row.\n",
    "    # numbering starts at 0 from the top and moves downwards\n",
    "    def row(self, row_num):\n",
    "        return self.grid[row_num]\n",
    "    \n",
    "    # col returns the numbers in a column.\n",
    "    # numbering starts at 0 on the left and moves right\n",
    "    def col(self, col_num):\n",
    "        return [self.grid[i][col_num] for i in range(self.height)]\n",
    "    \n",
    "    # diag1 returns the first diagonal going across the grid.\n",
    "    # This means:\n",
    "    # 1 | O | O\n",
    "    # O | 2 | O\n",
    "    # O | O | 3\n",
    "    # Becomes:\n",
    "    # [1, 2, 3]\n",
    "    def diag1(self):\n",
    "        if self.width != self.height:\n",
    "            raise DimensionErr\n",
    "            \n",
    "        return [self.grid[i][i] for i in range(self.height)]\n",
    "    \n",
    "    # diag2 returns the second diagonal going across the grid.\n",
    "    # This means:\n",
    "    # O | O | 3\n",
    "    # O | 2 | O\n",
    "    # 1 | O | O\n",
    "    # Becomes:\n",
    "    # [1, 2, 3]\n",
    "    def diag2(self):\n",
    "        if self.width != self.height:\n",
    "            raise DimensionErr\n",
    "            \n",
    "        return [self.grid[self.height - i - 1][i] for i in range(self.height)]\n",
    "    \n",
    "    # update updates the cell at (x, y), starting from the top (y) left (x).\n",
    "    def update(self, x, y, val):\n",
    "        self.grid[y][x] = val\n",
    "        \n",
    "    # first_none returns the coordinate of the first None filled cell, moving left to right, top to bottom.\n",
    "    def first_none(self):\n",
    "        for y in range(self.height):\n",
    "            for x in range(self.width):\n",
    "                if self.grid[y][x] == None:\n",
    "                    return (x, y)\n",
    "                \n",
    "        return None\n",
    "    \n",
    "    # random_none returns the coordinate of a random cell containing None.\n",
    "    def random_none(self):\n",
    "        options = []\n",
    "        \n",
    "        for y in range(self.height):\n",
    "            for x in range(self.width):\n",
    "                if self.grid[y][x] == None:\n",
    "                    options.append((x, y))\n",
    "                    \n",
    "        return random.choice(options)\n",
    "    \n",
    "    # magic returns true if the columns, rows and diagonals all add up to the same\n",
    "    def magic(self, should_equal):\n",
    "        for i in range(self.height):\n",
    "            if sum(self.row(i)) != should_equal:\n",
    "                return False\n",
    "            \n",
    "        for i in range(self.width):\n",
    "            if sum(self.col(i)) != should_equal:\n",
    "                return False\n",
    "\n",
    "        return sum(self.diag1()) == sum(self.diag2()) == should_equal\n",
    "    \n",
    "    # partial_magic returns true if the columns, rows and diagonals that don't include None all add up to the same\n",
    "    def partial_magic(self, should_equal):\n",
    "        for i in range(self.height):\n",
    "            row = self.row(i)\n",
    "            if None not in row and sum(row) != should_equal:\n",
    "                return False\n",
    "            \n",
    "        for i in range(self.width):\n",
    "            col = self.col(i)\n",
    "            if None not in col and sum(col) != should_equal:\n",
    "                return False\n",
    "            \n",
    "        diag1 = self.diag1()\n",
    "        if None not in diag1 and sum(diag1) != should_equal:\n",
    "            return False\n",
    "        \n",
    "        diag2 = self.diag2()\n",
    "        if None not in diag2 and sum(diag2) != should_equal:\n",
    "            return False\n",
    "        \n",
    "        return True\n",
    "    \n",
    "    def __str__(self):\n",
    "        str_rows = []\n",
    "        \n",
    "        for row in self.grid:\n",
    "            str_rows.append(\" | \".join([\"_\" if x == None else str(x) for x in row]))\n",
    "            \n",
    "        return (\"\\n\" + \"-\" * len(str_rows[0]) + \"\\n\").join(str_rows)\n",
    "    \n",
    "    def __repr__(self): return self.__str__()"
   ]
  },
  {
   "cell_type": "code",
   "execution_count": 110,
   "id": "9fd17ece-6583-4705-a0c7-b01a44a91f48",
   "metadata": {},
   "outputs": [],
   "source": [
    "# solve solves the diagonally-complete Latin square problem using a backtracking algorithm\n",
    "# Diagonally-complete Latin squares can't have duplicates in the rows, columns or diagonals.\n",
    "def solve(grid, inventory, magic):\n",
    "    first_none = grid.first_none()\n",
    "    \n",
    "    if first_none == None:\n",
    "        if grid.magic(magic):\n",
    "            return grid\n",
    "        else:\n",
    "            return None\n",
    "    \n",
    "    x, y = first_none\n",
    "    candidates = [num for num in inventory.keys() if inventory[num] > 0]\n",
    "    \n",
    "    for candidate in sorted(candidates):\n",
    "        copied_grid = deepcopy(grid)\n",
    "        copied_grid.grid[y][x] =  candidate\n",
    "        \n",
    "        # if adding this candidate means that a row/column/diagonal is not magic, then why try it?\n",
    "        # if we have duplicates in the row or column we can skip it\n",
    "        if not grid.partial_magic(magic) or candidate in grid.row(y) or candidate in grid.col(x):\n",
    "            continue\n",
    "            \n",
    "        # prevent any duplicates in the diagonals\n",
    "        if y == x and candidate in grid.diag1():\n",
    "            continue\n",
    "            \n",
    "        if grid.height - y - 1 == x and candidate in grid.diag2():\n",
    "            continue\n",
    "        \n",
    "        copied_inventory = deepcopy(inventory)\n",
    "        copied_inventory[candidate] -= 1\n",
    "\n",
    "        solved = solve(copied_grid, copied_inventory, magic)\n",
    "        \n",
    "        if solved != None:\n",
    "            return solved"
   ]
  },
  {
   "cell_type": "code",
   "execution_count": 111,
   "id": "36d9b8d6-f1b0-4356-8f87-664c59dd1977",
   "metadata": {},
   "outputs": [],
   "source": [
    "# general solves the general strong nxn square problem\n",
    "def general(n):\n",
    "    grid = Grid(n, n)\n",
    "    return solve(grid, {i: n for i in range(n)}, n*(n-1)//2)"
   ]
  },
  {
   "cell_type": "code",
   "execution_count": 112,
   "id": "c1fd7fbe-0bc8-4bcf-9c7c-9ab8cbdf39c6",
   "metadata": {},
   "outputs": [],
   "source": [
    "def complete(grid):\n",
    "    nums = [num for row in grid for num in row]\n",
    "    \n",
    "    width = len(grid[0])\n",
    "    height = len(grid)\n",
    "    \n",
    "    inventory = {i: width-nums.count(i) for i in range(width)}\n",
    "    \n",
    "    solved = solve(Grid(width, height, grid), inventory, sum(range(width)))\n",
    "    \n",
    "    return \"No solutions\" if solved == None else solved"
   ]
  },
  {
   "cell_type": "code",
   "execution_count": 113,
   "id": "f7bbf36c-29be-4834-b34b-e8eafb1f4853",
   "metadata": {},
   "outputs": [],
   "source": [
    "def factorial(x):\n",
    "    if x == 1:\n",
    "        return 1\n",
    "    \n",
    "    else:\n",
    "        return x * factorial(x-1)"
   ]
  },
  {
   "cell_type": "code",
   "execution_count": 37,
   "id": "1859213f-7ae5-4459-910e-2f5bff068553",
   "metadata": {},
   "outputs": [],
   "source": [
    "def allowed_columns(n):\n",
    "    valid = []\n",
    "    total = 0\n",
    "\n",
    "    for perm in tqdm(permutations(range(1, n)), total = factorial(n-1)):\n",
    "        grid = [list(range(n))]\n",
    "        \n",
    "        for num in perm:\n",
    "            grid.append([num] + [None for _ in range(n-1)])\n",
    "            \n",
    "        result = complete(grid)\n",
    "        if result != \"No solutions\":\n",
    "            valid.append((0, *perm))\n",
    "\n",
    "        total += 1\n",
    "\n",
    "    print(f\"{len(valid)}/{total}\")\n",
    "    return valid"
   ]
  },
  {
   "cell_type": "code",
   "execution_count": 38,
   "id": "8842fd4d-751e-4cbc-8b66-c14448d5e3c6",
   "metadata": {},
   "outputs": [
    {
     "name": "stderr",
     "output_type": "stream",
     "text": [
      "100%|█████████████████████████████████████████████████████████████████| 6/6 [00:00<00:00, 625.52it/s]"
     ]
    },
    {
     "name": "stdout",
     "output_type": "stream",
     "text": [
      "2/6\n"
     ]
    },
    {
     "name": "stderr",
     "output_type": "stream",
     "text": [
      "\n"
     ]
    },
    {
     "data": {
      "text/plain": [
       "[(0, 2, 3, 1), (0, 3, 1, 2)]"
      ]
     },
     "execution_count": 38,
     "metadata": {},
     "output_type": "execute_result"
    }
   ],
   "source": [
    "allowed_columns(4)"
   ]
  },
  {
   "cell_type": "code",
   "execution_count": 39,
   "id": "36d61162-0187-40f1-a39b-b3f711d241b2",
   "metadata": {},
   "outputs": [
    {
     "name": "stderr",
     "output_type": "stream",
     "text": [
      "100%|███████████████████████████████████████████████████████████████| 24/24 [00:00<00:00, 139.64it/s]"
     ]
    },
    {
     "name": "stdout",
     "output_type": "stream",
     "text": [
      "8/24\n"
     ]
    },
    {
     "name": "stderr",
     "output_type": "stream",
     "text": [
      "\n"
     ]
    },
    {
     "data": {
      "text/plain": [
       "[(0, 1, 3, 4, 2),\n",
       " (0, 1, 4, 2, 3),\n",
       " (0, 2, 4, 1, 3),\n",
       " (0, 2, 4, 3, 1),\n",
       " (0, 3, 1, 4, 2),\n",
       " (0, 3, 4, 2, 1),\n",
       " (0, 4, 1, 3, 2),\n",
       " (0, 4, 3, 1, 2)]"
      ]
     },
     "execution_count": 39,
     "metadata": {},
     "output_type": "execute_result"
    }
   ],
   "source": [
    "allowed_columns(5)"
   ]
  },
  {
   "cell_type": "code",
   "execution_count": 40,
   "id": "4af7c0d4-4354-4c05-ba6f-0f40ffd9a1db",
   "metadata": {},
   "outputs": [
    {
     "name": "stderr",
     "output_type": "stream",
     "text": [
      "100%|██████████████████████████████████████████████████████████████| 120/120 [00:37<00:00,  3.16it/s]"
     ]
    },
    {
     "name": "stdout",
     "output_type": "stream",
     "text": [
      "32/120\n"
     ]
    },
    {
     "name": "stderr",
     "output_type": "stream",
     "text": [
      "\n"
     ]
    },
    {
     "data": {
      "text/plain": [
       "[(0, 1, 2, 4, 5, 3),\n",
       " (0, 1, 2, 5, 3, 4),\n",
       " (0, 1, 3, 4, 5, 2),\n",
       " (0, 1, 3, 5, 2, 4),\n",
       " (0, 1, 4, 2, 5, 3),\n",
       " (0, 1, 4, 3, 5, 2),\n",
       " (0, 1, 5, 2, 3, 4),\n",
       " (0, 1, 5, 3, 2, 4),\n",
       " (0, 2, 3, 5, 1, 4),\n",
       " (0, 2, 3, 5, 4, 1),\n",
       " (0, 2, 5, 3, 1, 4),\n",
       " (0, 2, 5, 3, 4, 1),\n",
       " (0, 3, 2, 5, 1, 4),\n",
       " (0, 3, 2, 5, 4, 1),\n",
       " (0, 3, 5, 2, 1, 4),\n",
       " (0, 3, 5, 2, 4, 1),\n",
       " (0, 4, 1, 2, 5, 3),\n",
       " (0, 4, 1, 3, 5, 2),\n",
       " (0, 4, 2, 1, 5, 3),\n",
       " (0, 4, 2, 5, 3, 1),\n",
       " (0, 4, 3, 1, 5, 2),\n",
       " (0, 4, 3, 5, 2, 1),\n",
       " (0, 4, 5, 2, 3, 1),\n",
       " (0, 4, 5, 3, 2, 1),\n",
       " (0, 5, 1, 2, 4, 3),\n",
       " (0, 5, 1, 3, 4, 2),\n",
       " (0, 5, 2, 1, 4, 3),\n",
       " (0, 5, 2, 4, 1, 3),\n",
       " (0, 5, 3, 1, 4, 2),\n",
       " (0, 5, 3, 4, 1, 2),\n",
       " (0, 5, 4, 2, 1, 3),\n",
       " (0, 5, 4, 3, 1, 2)]"
      ]
     },
     "execution_count": 40,
     "metadata": {},
     "output_type": "execute_result"
    }
   ],
   "source": [
    "allowed_columns(6)"
   ]
  },
  {
   "cell_type": "code",
   "execution_count": 33,
   "id": "1d75b3b1-b09a-46c3-95c3-17e24a208b53",
   "metadata": {},
   "outputs": [
    {
     "name": "stdout",
     "output_type": "stream",
     "text": [
      "CPU times: user 295 ms, sys: 2.89 ms, total: 298 ms\n",
      "Wall time: 297 ms\n"
     ]
    },
    {
     "data": {
      "text/plain": [
       "0 | 1 | 2 | 3 | 4 | 5\n",
       "---------------------\n",
       "1 | 2 | 0 | 5 | 3 | 4\n",
       "---------------------\n",
       "4 | 3 | 5 | 0 | 2 | 1\n",
       "---------------------\n",
       "3 | 0 | 1 | 4 | 5 | 2\n",
       "---------------------\n",
       "5 | 4 | 3 | 2 | 1 | 0\n",
       "---------------------\n",
       "2 | 5 | 4 | 1 | 0 | 3"
      ]
     },
     "execution_count": 33,
     "metadata": {},
     "output_type": "execute_result"
    }
   ],
   "source": [
    "grid = Grid(6, 6)\n",
    "grid.grid[0] = range(6)\n",
    "\n",
    "%time complete(grid.grid)"
   ]
  },
  {
   "cell_type": "code",
   "execution_count": null,
   "id": "654bd065-7242-4ad4-bdc8-f1f19c27cf3e",
   "metadata": {},
   "outputs": [],
   "source": []
  },
  {
   "cell_type": "code",
   "execution_count": null,
   "id": "d017adf0-5907-49a4-b934-c483744068df",
   "metadata": {},
   "outputs": [],
   "source": []
  },
  {
   "cell_type": "code",
   "execution_count": null,
   "id": "0c91ce3b-26ea-4280-a848-1d06fc07ddec",
   "metadata": {},
   "outputs": [],
   "source": []
  }
 ],
 "metadata": {
  "kernelspec": {
   "display_name": "Python 3 (ipykernel)",
   "language": "python",
   "name": "python3"
  },
  "language_info": {
   "codemirror_mode": {
    "name": "ipython",
    "version": 3
   },
   "file_extension": ".py",
   "mimetype": "text/x-python",
   "name": "python",
   "nbconvert_exporter": "python",
   "pygments_lexer": "ipython3",
   "version": "3.9.10"
  }
 },
 "nbformat": 4,
 "nbformat_minor": 5
}
