{
 "cells": [
  {
   "cell_type": "code",
   "execution_count": 2,
   "id": "b83a667e-ce6b-4b37-9400-23c67e2840f1",
   "metadata": {},
   "outputs": [],
   "source": [
    "from copy import deepcopy\n",
    "from IPython.display import clear_output\n",
    "import time"
   ]
  },
  {
   "cell_type": "code",
   "execution_count": 3,
   "id": "0198a38d-6944-46c9-b80b-c65327e968ca",
   "metadata": {},
   "outputs": [],
   "source": [
    "class Grid:\n",
    "    def __init__(self, width, height, initial=None):\n",
    "        self.width = width\n",
    "        self.height = height\n",
    "        \n",
    "        if initial != None:\n",
    "            self.grid = initial\n",
    "        else:\n",
    "            self.grid = []\n",
    "            \n",
    "            for i in range(height):\n",
    "                self.grid.append([None] * self.width)\n",
    "        \n",
    "    # row returns the numbers in a row.\n",
    "    # numbering starts at 0 from the top and moves downwards\n",
    "    def row(self, row_num):\n",
    "        return self.grid[row_num]\n",
    "    \n",
    "    # col returns the numbers in a column.\n",
    "    # numbering starts at 0 on the left and moves right\n",
    "    def col(self, col_num):\n",
    "        return [self.grid[i][col_num] for i in range(self.height)]\n",
    "    \n",
    "    # diag1 returns the first diagonal going across the grid.\n",
    "    # This means:\n",
    "    # 1 | O | O\n",
    "    # O | 2 | O\n",
    "    # O | O | 3\n",
    "    # Becomes:\n",
    "    # [1, 2, 3]\n",
    "    def diag1(self):\n",
    "        if self.width != self.height:\n",
    "            raise DimensionErr\n",
    "            \n",
    "        return [self.grid[i][i] for i in range(self.height)]\n",
    "    \n",
    "    # diag2 returns the second diagonal going across the grid.\n",
    "    # This means:\n",
    "    # O | O | 3\n",
    "    # O | 2 | O\n",
    "    # 1 | O | O\n",
    "    # Becomes:\n",
    "    # [1, 2, 3]\n",
    "    def diag2(self):\n",
    "        if self.width != self.height:\n",
    "            raise DimensionErr\n",
    "            \n",
    "        return [self.grid[self.height - i - 1][i] for i in range(self.height)]\n",
    "    \n",
    "    # update updates the cell at (x, y), starting from the top (y) left (x).\n",
    "    def update(self, x, y, val):\n",
    "        self.grid[y][x] = val\n",
    "        \n",
    "    # first_none returns the coordinate of the first None filled cell, moving left to right, top to bottom.\n",
    "    def first_none(self):\n",
    "        for y in range(self.height):\n",
    "            for x in range(self.width):\n",
    "                if self.grid[y][x] == None:\n",
    "                    return (x, y)\n",
    "                \n",
    "        return None\n",
    "    \n",
    "    # magic returns true if the columns, rows and diagonals all add up to the same\n",
    "    def magic(self, should_equal):\n",
    "        for i in range(self.height):\n",
    "            if sum(self.row(i)) != should_equal:\n",
    "                return False\n",
    "            \n",
    "        for i in range(self.width):\n",
    "            if sum(self.col(i)) != should_equal:\n",
    "                return False\n",
    "\n",
    "        return sum(self.diag1()) == sum(self.diag2()) == should_equal\n",
    "    \n",
    "    # partial_magic returns true if the columns, rows and diagonals that don't include None all add up to the same\n",
    "    def partial_magic(self, should_equal):\n",
    "        for i in range(self.height):\n",
    "            row = self.row(i)\n",
    "            if None not in row and sum(row) != should_equal:\n",
    "                return False\n",
    "            \n",
    "        for i in range(self.width):\n",
    "            col = self.col(i)\n",
    "            if None not in col and sum(col) != should_equal:\n",
    "                return False\n",
    "            \n",
    "        diag1 = self.diag1()\n",
    "        if None not in diag1 and sum(diag1) != should_equal:\n",
    "            return False\n",
    "        \n",
    "        diag2 = self.diag2()\n",
    "        if None not in diag2 and sum(diag2) != should_equal:\n",
    "            return False\n",
    "        \n",
    "        return True\n",
    "    \n",
    "    def __str__(self):\n",
    "        str_rows = []\n",
    "        \n",
    "        for row in self.grid:\n",
    "            str_rows.append(\" | \".join([\"_\" if x == None else str(x) for x in row]))\n",
    "            \n",
    "        return (\"\\n\" + \"-\" * len(str_rows[0]) + \"\\n\").join(str_rows)\n",
    "    \n",
    "    def __repr__(self): return self.__str__()"
   ]
  },
  {
   "cell_type": "code",
   "execution_count": 4,
   "id": "4ca4c165-1ec9-479c-ad57-730335aecb8c",
   "metadata": {},
   "outputs": [
    {
     "data": {
      "text/plain": [
       "True"
      ]
     },
     "execution_count": 4,
     "metadata": {},
     "output_type": "execute_result"
    }
   ],
   "source": [
    "magic3x3 = Grid(\n",
    "    3, 3, \n",
    "    [\n",
    "        [1,0,2],\n",
    "        [2,1,0],\n",
    "        [0,2,1]\n",
    "    ]\n",
    ")\n",
    "magic3x3.magic(3)"
   ]
  },
  {
   "cell_type": "code",
   "execution_count": 5,
   "id": "49c1a49f-babb-40b7-986b-8d537114ba30",
   "metadata": {},
   "outputs": [
    {
     "data": {
      "text/plain": [
       "True"
      ]
     },
     "execution_count": 5,
     "metadata": {},
     "output_type": "execute_result"
    }
   ],
   "source": [
    "magic4x4 = Grid(\n",
    "    4, 4,\n",
    "    [\n",
    "        [2, 0, 3, 1],\n",
    "        [1, 3, 0, 2],\n",
    "        [0, 2, 1, 3],\n",
    "        [3, 1, 2, 0],\n",
    "    ],\n",
    ")\n",
    "magic4x4.magic(6)"
   ]
  },
  {
   "cell_type": "code",
   "execution_count": 6,
   "id": "31746e56-26ff-46be-8b59-ccf31193fd55",
   "metadata": {},
   "outputs": [
    {
     "data": {
      "text/plain": [
       "True"
      ]
     },
     "execution_count": 6,
     "metadata": {},
     "output_type": "execute_result"
    }
   ],
   "source": [
    "magic5x5 = Grid(\n",
    "    5, 5,\n",
    "    [\n",
    "        [0, 1, 2, 3, 4],\n",
    "        [3, 4, 0, 1, 2],\n",
    "        [1, 2, 3, 4, 0],\n",
    "        [4, 0, 1, 2, 3],\n",
    "        [2, 3, 4, 0, 1],\n",
    "    ],\n",
    ")\n",
    "magic5x5.magic(10)"
   ]
  },
  {
   "cell_type": "code",
   "execution_count": 7,
   "id": "affc2a75-4f40-40a3-8739-73a7ddcf78a1",
   "metadata": {},
   "outputs": [
    {
     "data": {
      "text/plain": [
       "0 | 1 | 2 | 3 | 4\n",
       "-----------------\n",
       "3 | 4 | 0 | 1 | 2\n",
       "-----------------\n",
       "1 | 2 | 3 | 4 | 0\n",
       "-----------------\n",
       "4 | 0 | 1 | 2 | 3\n",
       "-----------------\n",
       "2 | 3 | 4 | 0 | 1"
      ]
     },
     "execution_count": 7,
     "metadata": {},
     "output_type": "execute_result"
    }
   ],
   "source": [
    "magic5x5"
   ]
  },
  {
   "cell_type": "code",
   "execution_count": 126,
   "id": "9fd17ece-6583-4705-a0c7-b01a44a91f48",
   "metadata": {},
   "outputs": [],
   "source": [
    "# weak_solve solves the magic square problem using a backtracking algorithm\n",
    "# weak magic squares can have duplicates in the rows, columns and diagonals.\n",
    "def weak_solve(grid, inventory, magic):\n",
    "    first_none = grid.first_none()\n",
    "    \n",
    "    if first_none == None:\n",
    "        if grid.magic(magic):\n",
    "            return grid\n",
    "        else:\n",
    "            return None\n",
    "    \n",
    "    x, y = first_none\n",
    "    candidates = [num for num in inventory.keys() if inventory[num] > 0]\n",
    "    \n",
    "    for candidate in candidates:\n",
    "        copied_grid = deepcopy(grid)\n",
    "        copied_grid.grid[y][x] =  candidate\n",
    "        \n",
    "        # if adding this candidate means that a row/column/diagonal is not magic, then why try it?\n",
    "        if not grid.partial_magic(magic):\n",
    "            continue\n",
    "        \n",
    "        copied_inventory = deepcopy(inventory)\n",
    "        copied_inventory[candidate] -= 1\n",
    "\n",
    "        solved = weak_solve(copied_grid, copied_inventory, magic)\n",
    "        \n",
    "        if solved != None:\n",
    "            return solved\n",
    "    \n",
    "# moderate_solve solves the magic square problem using a backtracking algorithm\n",
    "# moderate magic squares can have duplicates in the diagonals, but not rows and columns\n",
    "def moderate_solve(grid, inventory, magic):\n",
    "    first_none = grid.first_none()\n",
    "    \n",
    "    if first_none == None:\n",
    "        if grid.magic(magic):\n",
    "            return grid\n",
    "        else:\n",
    "            return None\n",
    "    \n",
    "    x, y = first_none\n",
    "    candidates = [num for num in inventory.keys() if inventory[num] > 0]\n",
    "    \n",
    "    for candidate in candidates:\n",
    "        copied_grid = deepcopy(grid)\n",
    "        copied_grid.grid[y][x] =  candidate\n",
    "        \n",
    "        # if adding this candidate means that a row/column/diagonal is not magic, then why try it?\n",
    "        # if we have duplicates in the row or column we can skip it\n",
    "        if not grid.partial_magic(magic) or candidate in grid.row(y) or candidate in grid.col(x):\n",
    "            continue\n",
    "        \n",
    "        copied_inventory = deepcopy(inventory)\n",
    "        copied_inventory[candidate] -= 1\n",
    "\n",
    "        solved = moderate_solve(copied_grid, copied_inventory, magic)\n",
    "        \n",
    "        if solved != None:\n",
    "            return solved\n",
    "        \n",
    "# strong_solve solves the magic square problem using a backtracking algorithm\n",
    "# strong magic squares can't have duplicates in the rows, columns or diagonals.\n",
    "def strong_solve(grid, inventory, magic):\n",
    "    first_none = grid.first_none()\n",
    "    \n",
    "    #print(grid)\n",
    "    #time.sleep(0.5)\n",
    "    #clear_output()\n",
    "    \n",
    "    if first_none == None:\n",
    "        if grid.magic(magic):\n",
    "            return grid\n",
    "        else:\n",
    "            return None\n",
    "    \n",
    "    x, y = first_none\n",
    "    candidates = [num for num in inventory.keys() if inventory[num] > 0]\n",
    "    \n",
    "    for candidate in sorted(candidates):\n",
    "        copied_grid = deepcopy(grid)\n",
    "        copied_grid.grid[y][x] =  candidate\n",
    "        \n",
    "        # if adding this candidate means that a row/column/diagonal is not magic, then why try it?\n",
    "        # if we have duplicates in the row or column we can skip it\n",
    "        if not grid.partial_magic(magic) or candidate in grid.row(y) or candidate in grid.col(x):\n",
    "            continue\n",
    "            \n",
    "        # prevent any duplicates in the diagonals\n",
    "        if y == x and candidate in grid.diag1():\n",
    "            continue\n",
    "            \n",
    "        if grid.height - y - 1 == x and candidate in grid.diag2():\n",
    "            continue\n",
    "        \n",
    "        copied_inventory = deepcopy(inventory)\n",
    "        copied_inventory[candidate] -= 1\n",
    "\n",
    "        solved = strong_solve(copied_grid, copied_inventory, magic)\n",
    "        \n",
    "        if solved != None:\n",
    "            return solved"
   ]
  },
  {
   "cell_type": "code",
   "execution_count": 127,
   "id": "36d9b8d6-f1b0-4356-8f87-664c59dd1977",
   "metadata": {},
   "outputs": [],
   "source": [
    "# general solves the general strong nxn square problem\n",
    "def general(n):\n",
    "    grid = Grid(n, n)\n",
    "    return strong_solve(grid, {i: n for i in range(n)}, n*(n-1)//2)"
   ]
  },
  {
   "cell_type": "code",
   "execution_count": 128,
   "id": "53abd73d-b712-4f01-bfbf-9b9c7e6a0125",
   "metadata": {},
   "outputs": [],
   "source": [
    "general(3)"
   ]
  },
  {
   "cell_type": "code",
   "execution_count": 129,
   "id": "2dd78590-3cd8-4f4f-93e8-2adb8db2d6ea",
   "metadata": {},
   "outputs": [
    {
     "data": {
      "text/plain": [
       "0 | 1 | 2 | 3\n",
       "-------------\n",
       "2 | 3 | 0 | 1\n",
       "-------------\n",
       "3 | 2 | 1 | 0\n",
       "-------------\n",
       "1 | 0 | 3 | 2"
      ]
     },
     "execution_count": 129,
     "metadata": {},
     "output_type": "execute_result"
    }
   ],
   "source": [
    "general(4)"
   ]
  },
  {
   "cell_type": "code",
   "execution_count": 130,
   "id": "a9e91ba0-28a2-4747-bae6-ae6bb5ef5384",
   "metadata": {},
   "outputs": [
    {
     "data": {
      "text/plain": [
       "0 | 1 | 2 | 3 | 4\n",
       "-----------------\n",
       "4 | 2 | 0 | 1 | 3\n",
       "-----------------\n",
       "1 | 4 | 3 | 2 | 0\n",
       "-----------------\n",
       "3 | 0 | 1 | 4 | 2\n",
       "-----------------\n",
       "2 | 3 | 4 | 0 | 1"
      ]
     },
     "execution_count": 130,
     "metadata": {},
     "output_type": "execute_result"
    }
   ],
   "source": [
    "strong_solve(\n",
    "    Grid(\n",
    "        5, 5,\n",
    "        [\n",
    "            [0, 1, 2, 3, 4],\n",
    "            [None, 2, None, None, None],\n",
    "            [None, None, None, None, None],\n",
    "            [None, None, None, None, None],\n",
    "            [None, None, None, None, None],\n",
    "        ]\n",
    "    ),\n",
    "    {0: 4, 1: 4, 2: 3, 3: 4, 4: 4},\n",
    "    10\n",
    ")"
   ]
  },
  {
   "cell_type": "code",
   "execution_count": 131,
   "id": "6a10bd73-4a03-4e71-a05d-1c66916e63c9",
   "metadata": {},
   "outputs": [
    {
     "data": {
      "text/plain": [
       "0 | 1 | 2 | 3 | 4\n",
       "-----------------\n",
       "1 | 3 | 4 | 2 | 0\n",
       "-----------------\n",
       "4 | 2 | 1 | 0 | 3\n",
       "-----------------\n",
       "2 | 0 | 3 | 4 | 1\n",
       "-----------------\n",
       "3 | 4 | 0 | 1 | 2"
      ]
     },
     "execution_count": 131,
     "metadata": {},
     "output_type": "execute_result"
    }
   ],
   "source": [
    "general(5)"
   ]
  },
  {
   "cell_type": "code",
   "execution_count": 132,
   "id": "b0611a26-3a00-4105-a2a0-9e9c9f5b1c7c",
   "metadata": {},
   "outputs": [
    {
     "data": {
      "text/plain": [
       "0 | 1 | 2 | 3 | 4 | 5\n",
       "---------------------\n",
       "1 | 2 | 0 | 5 | 3 | 4\n",
       "---------------------\n",
       "4 | 3 | 5 | 0 | 2 | 1\n",
       "---------------------\n",
       "3 | 0 | 1 | 4 | 5 | 2\n",
       "---------------------\n",
       "5 | 4 | 3 | 2 | 1 | 0\n",
       "---------------------\n",
       "2 | 5 | 4 | 1 | 0 | 3"
      ]
     },
     "execution_count": 132,
     "metadata": {},
     "output_type": "execute_result"
    }
   ],
   "source": [
    "general(6)"
   ]
  },
  {
   "cell_type": "code",
   "execution_count": null,
   "id": "6813ffb8-f6da-4ebe-aae2-0d444822ca5f",
   "metadata": {},
   "outputs": [],
   "source": [
    "general(7)"
   ]
  },
  {
   "cell_type": "code",
   "execution_count": null,
   "id": "5881fc45-b379-4ab1-b087-71774c148e2f",
   "metadata": {},
   "outputs": [],
   "source": [
    "general(8)"
   ]
  },
  {
   "cell_type": "code",
   "execution_count": 133,
   "id": "c1fd7fbe-0bc8-4bcf-9c7c-9ab8cbdf39c6",
   "metadata": {},
   "outputs": [],
   "source": [
    "def complete(grid):\n",
    "    nums = [num for row in grid for num in row]\n",
    "    \n",
    "    width = len(grid[0])\n",
    "    height = len(grid)\n",
    "    \n",
    "    inventory = {i: width-nums.count(i) for i in range(width)}\n",
    "    \n",
    "    solved = strong_solve(Grid(width, height, grid), inventory, sum(range(width)))\n",
    "    \n",
    "    return \"No solutions\" if solved == None else solved"
   ]
  },
  {
   "cell_type": "code",
   "execution_count": 142,
   "id": "1859213f-7ae5-4459-910e-2f5bff068553",
   "metadata": {},
   "outputs": [
    {
     "data": {
      "text/plain": [
       "0 | 1 | 2 | 3 | 4\n",
       "-----------------\n",
       "1 | 3 | 4 | 2 | 0\n",
       "-----------------\n",
       "4 | 2 | 1 | 0 | 3\n",
       "-----------------\n",
       "2 | 0 | 3 | 4 | 1\n",
       "-----------------\n",
       "3 | 4 | 0 | 1 | 2"
      ]
     },
     "execution_count": 142,
     "metadata": {},
     "output_type": "execute_result"
    }
   ],
   "source": [
    "complete([\n",
    "    [0, 1, 2, 3, 4],\n",
    "    [None, None, None, None, None],\n",
    "    [None, None, None, None, None],\n",
    "    [None, None, None, None, None],\n",
    "    [None, None, None, None, None]\n",
    "])"
   ]
  },
  {
   "cell_type": "code",
   "execution_count": 161,
   "id": "1d75b3b1-b09a-46c3-95c3-17e24a208b53",
   "metadata": {},
   "outputs": [
    {
     "data": {
      "text/plain": [
       "0 | 3 | 2 | 1\n",
       "-------------\n",
       "2 | 1 | 0 | 3\n",
       "-------------\n",
       "1 | 2 | 3 | 0\n",
       "-------------\n",
       "3 | 0 | 1 | 2"
      ]
     },
     "execution_count": 161,
     "metadata": {},
     "output_type": "execute_result"
    }
   ],
   "source": [
    "complete([\n",
    "    [0,3,2,1],\n",
    "    [None, None, None, None],\n",
    "    [1, None, None, None],\n",
    "    [None, None, None, None],\n",
    "])"
   ]
  },
  {
   "cell_type": "code",
   "execution_count": null,
   "id": "654bd065-7242-4ad4-bdc8-f1f19c27cf3e",
   "metadata": {},
   "outputs": [],
   "source": []
  },
  {
   "cell_type": "code",
   "execution_count": null,
   "id": "d017adf0-5907-49a4-b934-c483744068df",
   "metadata": {},
   "outputs": [],
   "source": []
  },
  {
   "cell_type": "code",
   "execution_count": null,
   "id": "0c91ce3b-26ea-4280-a848-1d06fc07ddec",
   "metadata": {},
   "outputs": [],
   "source": []
  }
 ],
 "metadata": {
  "kernelspec": {
   "display_name": "Python 3",
   "language": "python",
   "name": "python3"
  },
  "language_info": {
   "codemirror_mode": {
    "name": "ipython",
    "version": 3
   },
   "file_extension": ".py",
   "mimetype": "text/x-python",
   "name": "python",
   "nbconvert_exporter": "python",
   "pygments_lexer": "ipython3",
   "version": "3.9.5"
  }
 },
 "nbformat": 4,
 "nbformat_minor": 5
}
